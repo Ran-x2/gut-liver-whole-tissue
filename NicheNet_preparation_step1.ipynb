{
 "cells": [
  {
   "cell_type": "markdown",
   "metadata": {},
   "source": [
    "### Get the at least 1% expressed genes for NicheNet to determine what receptor is expressed"
   ]
  },
  {
   "cell_type": "code",
   "execution_count": 6,
   "metadata": {},
   "outputs": [],
   "source": [
    "#import the library\n",
    "import scanpy as sc\n",
    "import numpy as np\n",
    "import scipy as sp\n",
    "import pandas as pd\n",
    "import matplotlib.pyplot as plt\n",
    "from matplotlib import rcParams\n",
    "from matplotlib import colors\n",
    "import seaborn as sb\n",
    "import seaborn as sns\n",
    "import logging\n",
    "import os\n",
    "os.chdir(r'E:\\AAA_Labwork\\Tcell tissues\\v2')\n",
    "import importlib\n",
    "import warnings\n",
    "warnings.filterwarnings(\"ignore\")\n",
    "\n",
    "import pickle as pkl\n",
    "from matplotlib.colors import LinearSegmentedColormap"
   ]
  },
  {
   "cell_type": "code",
   "execution_count": 2,
   "metadata": {},
   "outputs": [],
   "source": [
    "def print_full(x):\n",
    "    pd.set_option('display.max_rows', len(x))\n",
    "    print(x)\n",
    "    pd.reset_option('display.max_rows')"
   ]
  },
  {
   "cell_type": "code",
   "execution_count": 3,
   "metadata": {},
   "outputs": [],
   "source": [
    "#This pallete is for colorblinds\n",
    "my_palette = ['#0351A8','#8CB0E0','#D56D11','#FFBB78','#234E08','#53CB8B','#D30083','#CB788D','#4E195A','#C58CCF','#AA290F','#B03FD1','#E8BCCF','#64605F','#B2AD9A','#D2D30B','#D1BD4F','#06DCF2','#9EDAE5','#517219','#5B43CF','#D92F24','#FFD900','#002F33','#B8A3A3']"
   ]
  },
  {
   "cell_type": "code",
   "execution_count": 4,
   "metadata": {},
   "outputs": [],
   "source": [
    "from matplotlib.colors import LinearSegmentedColormap\n",
    "values = [0, 1]\n",
    "colors = [(227, 227, 227), (255, 42, 18)]\n",
    "colors = [tuple(np.array(color) / 255) for color in colors]\n",
    "my_cmap = LinearSegmentedColormap.from_list('', colors)"
   ]
  },
  {
   "cell_type": "code",
   "execution_count": 12,
   "metadata": {},
   "outputs": [],
   "source": [
    "def get_expressed_genes(donors, adata, pct=0.01):\n",
    "    expressed_genes = {}\n",
    "\n",
    "    for donor in donors:\n",
    "        adata_sub = adata[adata.obs['batch'] == donor]\n",
    "\n",
    "        gene_expression = (adata_sub.layers['counts'] > 0).sum(axis=0) / adata_sub.n_obs\n",
    "        if isinstance(gene_expression, np.matrix) or hasattr(gene_expression, \"A1\"):\n",
    "            gene_expression = np.array(gene_expression).flatten()\n",
    "        expressed_genes[donor] = adata.var_names[gene_expression >= pct].tolist()\n",
    "    \n",
    "    return expressed_genes"
   ]
  },
  {
   "cell_type": "code",
   "execution_count": 7,
   "metadata": {},
   "outputs": [],
   "source": [
    "adata_gut = sc.read_h5ad(r\"gut_annotated.h5ad\")\n",
    "adata_liver = sc.read_h5ad(r\"liver_annotated.h5ad\")"
   ]
  },
  {
   "cell_type": "code",
   "execution_count": 9,
   "metadata": {},
   "outputs": [],
   "source": [
    "adata_DEG_gut_T = adata_gut[(adata_gut.obs['celltype_lowres'].isin(['T Cells']))&(adata_gut.obs['batch'].isin(['3','4']))]\n",
    "adata_DEG_gut_Mac = adata_gut[(adata_gut.obs['celltype_lowres'].isin(['Macrophages']))&(adata_gut.obs['batch'].isin(['3','4']))]"
   ]
  },
  {
   "cell_type": "code",
   "execution_count": 10,
   "metadata": {},
   "outputs": [],
   "source": [
    "adata_DEG_liver_T = adata_liver[(adata_liver.obs['celltype_lowres'].isin(['T Cells']))&(adata_liver.obs['batch'].isin(['3','4']))]\n",
    "adata_DEG_liver_Mac = adata_liver[(adata_liver.obs['celltype_lowres'].isin(['Macrophages']))&(adata_liver.obs['batch'].isin(['3','4']))]"
   ]
  },
  {
   "cell_type": "code",
   "execution_count": 11,
   "metadata": {},
   "outputs": [],
   "source": [
    "adata_list = [adata_DEG_gut_T,adata_DEG_gut_Mac,adata_DEG_liver_T,adata_DEG_liver_Mac]"
   ]
  },
  {
   "cell_type": "code",
   "execution_count": 18,
   "metadata": {},
   "outputs": [
    {
     "data": {
      "text/plain": [
       "AAACCTGAGCGTGAAC-1-3    Donor AJD3280\n",
       "AAACCTGAGCTTCGCG-1-3    Donor AJD3280\n",
       "AAACCTGAGTATGACA-1-3    Donor AJD3280\n",
       "AAACCTGAGTTGAGAT-1-3    Donor AJD3280\n",
       "AAACCTGCACGTAAGG-1-3    Donor AJD3280\n",
       "                            ...      \n",
       "TTTGGTTTCTCGATGA-1-5    Donor AJKQ118\n",
       "TTTGTCAAGGCATGGT-1-5    Donor AJKQ118\n",
       "TTTGTCACACGAGGTA-1-5    Donor AJKQ118\n",
       "TTTGTCACAGTCCTTC-1-5    Donor AJKQ118\n",
       "TTTGTCATCGCACTCT-1-5    Donor AJKQ118\n",
       "Name: Donor ID, Length: 14218, dtype: category\n",
       "Categories (3, object): ['Donor AJD3280', 'Donor AJG2309', 'Donor AJKQ118']"
      ]
     },
     "execution_count": 18,
     "metadata": {},
     "output_type": "execute_result"
    }
   ],
   "source": [
    "adata_gut.obs['Donor ID']"
   ]
  },
  {
   "cell_type": "code",
   "execution_count": 15,
   "metadata": {},
   "outputs": [],
   "source": [
    "save_names = ['gutT','gutMac','liverT','liverMac']\n",
    "for i, key in enumerate(adata_list): \n",
    "    name = save_names[i]\n",
    "    expressed_genes = get_expressed_genes(['3','4'],key)\n",
    "    pd.DataFrame(expressed_genes['3']).to_csv('3_'+name+'_receptors.csv')\n",
    "    pd.DataFrame(expressed_genes['4']).to_csv('4_'+name+'_receptors.csv')"
   ]
  },
  {
   "cell_type": "markdown",
   "metadata": {},
   "source": [
    "## Prepare cell type profiles"
   ]
  },
  {
   "cell_type": "code",
   "execution_count": null,
   "metadata": {},
   "outputs": [],
   "source": [
    "donors = ['Donor AJD3280', 'Donor AJG2309']\n",
    "for donor in donors:\n",
    "\n",
    "    liver_df = adata_liver[adata_liver.obs['Donor ID'].isin([donor])].to_df()\n",
    "    liver_df = liver_df.fillna(0)\n",
    "    gut_df = adata_gut[adata_gut.obs['Donor ID'].isin([donor])].to_df()\n",
    "    gut_df = gut_df.fillna(0)\n",
    "\n",
    "    liver_df['cell type'] = adata_liver[adata_liver.obs['Donor ID'].isin([donor])].obs['celltype_lowres']\n",
    "    liver_count = liver_df.groupby(['cell type']).mean().unstack().unstack().T\n",
    "    liver_count = liver_count.iloc[:,list((liver_count == 0).all(axis = 0) == 0)]\n",
    "    liver_count[liver_count<0.01] = 0\n",
    "\n",
    "    liver_count.to_csv('nichenet/profiles/'+donor+'_liver_profile.csv')\n",
    "\n",
    "    gut_df['cell type'] = adata_gut[adata_gut.obs['Donor ID'].isin([donor])].obs['celltype_lowres']\n",
    "    gut_count = gut_df.groupby(['cell type']).mean().unstack().unstack().T\n",
    "    gut_count = gut_count.iloc[:,list((gut_count == 0).all(axis = 0) == 0)]\n",
    "    gut_count[gut_count<0.01] = 0\n",
    "    gut_count.to_csv('nichenet/profiles/'+donor+'_gut_profile.csv')"
   ]
  },
  {
   "cell_type": "code",
   "execution_count": null,
   "metadata": {},
   "outputs": [],
   "source": []
  }
 ],
 "metadata": {
  "kernelspec": {
   "display_name": "cpdb",
   "language": "python",
   "name": "python3"
  },
  "language_info": {
   "codemirror_mode": {
    "name": "ipython",
    "version": 3
   },
   "file_extension": ".py",
   "mimetype": "text/x-python",
   "name": "python",
   "nbconvert_exporter": "python",
   "pygments_lexer": "ipython3",
   "version": "3.9.13"
  }
 },
 "nbformat": 4,
 "nbformat_minor": 2
}
