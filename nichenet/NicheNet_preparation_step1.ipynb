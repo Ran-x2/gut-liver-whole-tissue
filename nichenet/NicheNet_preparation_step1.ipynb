{
 "cells": [
  {
   "cell_type": "markdown",
   "metadata": {},
   "source": [
    "### Get the at least 1% expressed genes for NicheNet to determine what receptor is expressed\n",
    "(I know switching back and forth is tedious but I really hate R!!!)"
   ]
  },
  {
   "cell_type": "code",
   "execution_count": null,
   "metadata": {},
   "outputs": [],
   "source": [
    "def get_expressed_genes(celltypes, adata, pct=0.01):\n",
    "    expressed_genes = {}\n",
    "\n",
    "    for celltype in celltypes:\n",
    "        adata_sub = adata[adata.obs['tissue+celltype'] == celltype]\n",
    "\n",
    "        gene_expression = (adata_sub.layers['counts'] > 0).sum(axis=0) / adata_sub.n_obs\n",
    "        if isinstance(gene_expression, np.matrix) or hasattr(gene_expression, \"A1\"):\n",
    "            gene_expression = np.array(gene_expression).flatten()\n",
    "        expressed_genes[celltype] = adata.var_names[gene_expression >= pct].tolist()\n",
    "    \n",
    "    return expressed_genes"
   ]
  },
  {
   "cell_type": "code",
   "execution_count": null,
   "metadata": {},
   "outputs": [],
   "source": [
    "save_names = ['CD4DEG_IEL_vs_LP_1','CD4DEG_LP_vs_L_1','CD8DEG_IEL_vs_LP_1','CD8DEG_LP_vs_L_1',\n",
    "              'CD4DEG_IEL_vs_LP_2','CD4DEG_LP_vs_L_2','CD8DEG_IEL_vs_LP_2','CD8DEG_LP_vs_L_2']"
   ]
  },
  {
   "cell_type": "code",
   "execution_count": null,
   "metadata": {},
   "outputs": [],
   "source": [
    "celltype_names =  ['IEL TCRab CD4 TRM','LP TCRab CD4 TRM',\n",
    "                                       'IEL TCRab CD8ab TRM',\n",
    "                                       'LP TCRab CD8ab TRM',\n",
    "                                       'LP TCRab CD4 TRM',\n",
    "                                       'L TCRab CD4 TRM',\n",
    "                                       'LP TCRab CD8ab TRM',\n",
    "                                       'L TCRab CD8ab TRM']"
   ]
  },
  {
   "cell_type": "code",
   "execution_count": null,
   "metadata": {},
   "outputs": [],
   "source": [
    "expressed_genes = get_expressed_genes(celltype_names, adata_all)"
   ]
  },
  {
   "cell_type": "code",
   "execution_count": null,
   "metadata": {},
   "outputs": [],
   "source": [
    "for i, key in enumerate(save_names): \n",
    "    pd.DataFrame(expressed_genes[celltype_names[i]]).to_csv('E:/AAA_Labwork/T cells/v3/'+key+'_receptors.csv')"
   ]
  },
  {
   "cell_type": "code",
   "execution_count": null,
   "metadata": {},
   "outputs": [],
   "source": [
    "expressed_genes = get_expressed_genes(['TRM'],adata_all)\n",
    "pd.DataFrame(expressed_genes['TRM']).to_csv('E:/AAA_Labwork/T cells/v3/TRM_background_genes.csv')"
   ]
  }
 ],
 "metadata": {
  "language_info": {
   "name": "python"
  }
 },
 "nbformat": 4,
 "nbformat_minor": 2
}
