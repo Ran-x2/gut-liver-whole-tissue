{
 "cells": [
  {
   "cell_type": "markdown",
   "metadata": {},
   "source": [
    "### Prepare the deconvolution mat - for cibersort"
   ]
  },
  {
   "cell_type": "code",
   "execution_count": null,
   "metadata": {},
   "outputs": [],
   "source": [
    "canbethere = ['Colonocytes', 'Enteroendocrine Cells',\n",
    "       'Goblet Cells', 'SPIB+ Cells','Transit Amplifying Cells',\n",
    "       'Tuft Cells']"
   ]
  },
  {
   "cell_type": "code",
   "execution_count": null,
   "metadata": {},
   "outputs": [],
   "source": [
    "adata_d3_canbethere = adata_d3[adata_d3.obs['celltype_highres'].isin(canbethere),:]"
   ]
  },
  {
   "cell_type": "code",
   "execution_count": null,
   "metadata": {},
   "outputs": [],
   "source": [
    "counts = adata_d3_canbethere.layers['raw']\n",
    "cell_types = adata_d3_canbethere.obs['celltype_highres']\n",
    "\n",
    "# Create a DataFrame from the counts\n",
    "counts_df = pd.DataFrame.sparse.from_spmatrix(counts.T, index=adata_d3_canbethere.var_names, columns=cell_types)"
   ]
  },
  {
   "cell_type": "code",
   "execution_count": null,
   "metadata": {},
   "outputs": [],
   "source": [
    "counts_df.to_csv('D3_EPI_mat.txt',sep = '\\t')"
   ]
  },
  {
   "cell_type": "code",
   "execution_count": null,
   "metadata": {},
   "outputs": [],
   "source": [
    "non_T = ['CD16- Conventional Monocytes', 'ILC1',\n",
    "       'ILC3', 'M2-like CD16+ Macrophages',\n",
    "       'Memory B Cells', 'NK', 'Naive B Cells', 'cDC2']"
   ]
  },
  {
   "cell_type": "code",
   "execution_count": null,
   "metadata": {},
   "outputs": [],
   "source": [
    "adata_d3_canbethere = adata_d3[adata_d3.obs['celltype_highres'].isin(non_T),:]"
   ]
  },
  {
   "cell_type": "code",
   "execution_count": null,
   "metadata": {},
   "outputs": [],
   "source": [
    "counts = adata_d3_canbethere.layers['raw']\n",
    "cell_types = adata_d3_canbethere.obs['celltype_highres']\n",
    "\n",
    "# Create a DataFrame from the counts\n",
    "counts_df = pd.DataFrame.sparse.from_spmatrix(counts.T, index=adata_d3_canbethere.var_names, columns=cell_types)"
   ]
  },
  {
   "cell_type": "code",
   "execution_count": null,
   "metadata": {},
   "outputs": [],
   "source": [
    "counts_df.to_csv('D3_GUT_CD45pos_nonT_mat.txt',sep = '\\t')"
   ]
  },
  {
   "cell_type": "code",
   "execution_count": null,
   "metadata": {},
   "outputs": [],
   "source": [
    "adata_d4_canbethere = adata_d4[adata_d4.obs['celltype_highres'].isin(canbethere),:]"
   ]
  },
  {
   "cell_type": "code",
   "execution_count": null,
   "metadata": {},
   "outputs": [],
   "source": [
    "counts = adata_d4_canbethere.layers['raw']\n",
    "cell_types = adata_d4_canbethere.obs['celltype_highres']\n",
    "\n",
    "# Create a DataFrame from the counts\n",
    "counts_df = pd.DataFrame.sparse.from_spmatrix(counts.T, index=adata_d4_canbethere.var_names, columns=cell_types)"
   ]
  },
  {
   "cell_type": "code",
   "execution_count": null,
   "metadata": {},
   "outputs": [],
   "source": [
    "counts_df.to_csv('D4_EPI_mat.txt',sep = '\\t')"
   ]
  },
  {
   "cell_type": "code",
   "execution_count": null,
   "metadata": {},
   "outputs": [],
   "source": [
    "adata_d4_canbethere = adata_d4[adata_d4.obs['celltype_highres'].isin(non_T),:]"
   ]
  },
  {
   "cell_type": "code",
   "execution_count": null,
   "metadata": {},
   "outputs": [],
   "source": [
    "counts = adata_d4_canbethere.layers['raw']\n",
    "cell_types = adata_d4_canbethere.obs['celltype_highres']\n",
    "\n",
    "# Create a DataFrame from the counts\n",
    "counts_df = pd.DataFrame.sparse.from_spmatrix(counts.T, index=adata_d4_canbethere.var_names, columns=cell_types)"
   ]
  },
  {
   "cell_type": "code",
   "execution_count": null,
   "metadata": {},
   "outputs": [],
   "source": [
    "counts_df.to_csv('D4_GUT_CD45pos_nonT_mat.txt',sep = '\\t')"
   ]
  }
 ],
 "metadata": {
  "language_info": {
   "name": "python"
  }
 },
 "nbformat": 4,
 "nbformat_minor": 2
}
